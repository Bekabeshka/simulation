{
 "cells": [
  {
   "cell_type": "code",
   "execution_count": 97,
   "metadata": {},
   "outputs": [],
   "source": [
    "import numpy as np\n",
    "import matplotlib.pyplot as plt"
   ]
  },
  {
   "cell_type": "code",
   "execution_count": 98,
   "metadata": {},
   "outputs": [],
   "source": [
    "length = 0.5; # length of each segment\n",
    "n = 35; # number of lanes ???\n",
    "dt = 1 / 240; # time step\n",
    "flow_speed = 85; # flow speed\n",
    "alpha, betta = 0.3, 0.4; # consts\n",
    "c_jam = 1; # jam density 140 - ???"
   ]
  },
  {
   "cell_type": "code",
   "execution_count": 99,
   "metadata": {},
   "outputs": [
    {
     "name": "stdout",
     "output_type": "stream",
     "text": [
      "Enter number of time steps: 6\n",
      "Enter number of sections: 3\n"
     ]
    }
   ],
   "source": [
    "n_time = int(input('Enter number of time steps: '))\n",
    "n_sections = int(input('Enter number of sections: '))"
   ]
  },
  {
   "cell_type": "code",
   "execution_count": 104,
   "metadata": {},
   "outputs": [],
   "source": [
    "c = np.zeros( (n_time, n_sections) ) # average traffic density in [time][section]\n",
    "v = np.zeros( (n_time, n_sections) ) # average speed of the vehicles [time][section]\n",
    "q = np.zeros( (n_time, n_sections) ) # flow [time][section]   "
   ]
  },
  {
   "cell_type": "code",
   "execution_count": 105,
   "metadata": {},
   "outputs": [],
   "source": [
    "q_in = 500\n",
    "c_in = 0.2"
   ]
  },
  {
   "cell_type": "code",
   "execution_count": 106,
   "metadata": {},
   "outputs": [],
   "source": [
    "for i in range(n_time):\n",
    "    \n",
    "    if i > 0:\n",
    "        q_in = 1000 - q[i - 1][0]\n",
    "        c_in = c[i - 1][n_sections - 1]\n",
    "    \n",
    "    v[i][0] = flow_speed * (1 - (c_in / c_jam)**alpha)**betta\n",
    "    q[i][0] = c_in * v[i][0] * n\n",
    "    c[i][0] = c_in + (dt / (n * length)) * (q_in - q[i][0])\n",
    "    \n",
    "    for j in range(1, n_sections):\n",
    "        v[i][j] = flow_speed * (1 - (c[i][j - 1] / c_jam)**alpha)**betta\n",
    "        q[i][j] = c[i][j - 1] * v[i][j] * n\n",
    "        c[i][j] = c[i][j - 1] + (dt / (n * length)) * (q[i][j - 1] - q[i][j])"
   ]
  },
  {
   "cell_type": "code",
   "execution_count": 107,
   "metadata": {},
   "outputs": [
    {
     "name": "stdout",
     "output_type": "stream",
     "text": [
      "[[57.90060151 56.66574265 57.13001767]\n",
      " [56.95469124 54.93328762 55.65282625]\n",
      " [55.39644229 54.32028487 54.69141616]\n",
      " [54.56366018 54.32971288 54.40965553]\n",
      " [54.38235377 54.4977501  54.45821568]\n",
      " [54.47176376 54.61903919 54.56835353]]\n",
      "[[405.30421055 441.3769255  427.81960101]\n",
      " [432.94127485 491.62312911 470.84751759]\n",
      " [478.26918728 509.17037937 498.56558998]\n",
      " [502.22293735 508.90174879 506.62229949]\n",
      " [507.40110092 504.1070409  505.2362507 ]\n",
      " [504.84935934 500.63841862 502.08870107]]\n",
      "[[0.22254662 0.21395787 0.21718581]\n",
      " [0.25569879 0.24172692 0.24667349]\n",
      " [0.26781386 0.26045643 0.26298138]\n",
      " [0.26762611 0.26603592 0.26657865]\n",
      " [0.26428721 0.26507151 0.26480265]\n",
      " [0.26188587 0.26288848 0.26254317]]\n"
     ]
    }
   ],
   "source": [
    "print(v)\n",
    "print(q)\n",
    "print(c)"
   ]
  },
  {
   "cell_type": "code",
   "execution_count": 110,
   "metadata": {},
   "outputs": [],
   "source": [
    "avg_v = [0] * n_sections\n",
    "avg_q = [0] * n_sections\n",
    "avg_c = [0] * n_sections\n",
    "for i in range(n_time):\n",
    "    for j in range(n_sections):\n",
    "        avg_v[j] += v[i][j]\n",
    "        avg_q[j] += q[i][j]\n",
    "        avg_c[j] += c[i][j]"
   ]
  },
  {
   "cell_type": "code",
   "execution_count": 114,
   "metadata": {},
   "outputs": [
    {
     "data": {
      "text/plain": [
       "[<matplotlib.lines.Line2D at 0x112ac4780>]"
      ]
     },
     "execution_count": 114,
     "metadata": {},
     "output_type": "execute_result"
    },
    {
     "data": {
      "image/png": "[encoded data removed]",
      "text/plain": [
       "<Figure size 432x288 with 1 Axes>"
      ]
     },
     "metadata": {},
     "output_type": "display_data"
    }
   ],
   "source": [
    "plt.plot(avg_v, avg_q)"
   ]
  }
 ],
 "metadata": {
  "kernelspec": {
   "display_name": "Python 3",
   "language": "python",
   "name": "python3"
  },
  "language_info": {
   "codemirror_mode": {
    "name": "ipython",
    "version": 3
   },
   "file_extension": ".py",
   "mimetype": "text/x-python",
   "name": "python",
   "nbconvert_exporter": "python",
   "pygments_lexer": "ipython3",
   "version": "3.6.5"
  }
 },
 "nbformat": 4,
 "nbformat_minor": 2
}
