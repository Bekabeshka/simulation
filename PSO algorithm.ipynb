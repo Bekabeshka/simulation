{
 "cells": [
  {
   "cell_type": "code",
   "execution_count": 12,
   "metadata": {},
   "outputs": [],
   "source": [
    "import random\n",
    "import numpy as np "
   ]
  },
  {
   "cell_type": "code",
   "execution_count": 31,
   "metadata": {},
   "outputs": [],
   "source": [
    "class Particle():\n",
    "    def __init__(self):\n",
    "        self.position = np.array([(-1) ** (bool(random.getrandbits(1))) * random.random()*50, (-1)**(bool(random.getrandbits(1))) * random.random()*50])\n",
    "        self.pbest_position = self.position\n",
    "        self.pbest_value = float('inf')\n",
    "        self.velocity = np.array([0,0])\n",
    "    \n",
    "    def move(self):\n",
    "        self.position = self.position + self.velocity\n",
    "        \n",
    "    def fitness(self):\n",
    "        return self.position[0] ** 2 + self.position[1] ** 2 + 1"
   ]
  },
  {
   "cell_type": "code",
   "execution_count": 43,
   "metadata": {
    "scrolled": true
   },
   "outputs": [
    {
     "name": "stdout",
     "output_type": "stream",
     "text": [
      "Inform the number of iterations: 50\n",
      "Inform the target error: 1e-6\n",
      "Inform the number of particles: 30\n"
     ]
    }
   ],
   "source": [
    "W = 0.5\n",
    "c1 = 2\n",
    "c2 = 2\n",
    "\n",
    "n_iterations = int(input(\"Inform the number of iterations: \"))\n",
    "target_error = float(input(\"Inform the target error: \"))\n",
    "n_particles = int(input(\"Inform the number of particles: \"))\n",
    "\n",
    "gbest_value = float('inf')\n",
    "gbest_position = np.array([random.random()*50, random.random()*50])"
   ]
  },
  {
   "cell_type": "code",
   "execution_count": 44,
   "metadata": {},
   "outputs": [
    {
     "name": "stdout",
     "output_type": "stream",
     "text": [
      "Locatoin:  [ 12.73946591 -14.29742756] , pbest:  [ 12.73946591 -14.29742756]\n",
      "Locatoin:  [-47.51607172 -19.53052594] , pbest:  [-47.51607172 -19.53052594]\n",
      "Locatoin:  [ 11.5934122  -25.43070841] , pbest:  [ 11.5934122  -25.43070841]\n",
      "Locatoin:  [-13.35309083  24.71173557] , pbest:  [-13.35309083  24.71173557]\n",
      "Locatoin:  [35.71450652 49.68738377] , pbest:  [35.71450652 49.68738377]\n",
      "Locatoin:  [27.14329966 45.76607575] , pbest:  [27.14329966 45.76607575]\n",
      "Locatoin:  [ 11.45022891 -14.65854681] , pbest:  [ 11.45022891 -14.65854681]\n",
      "Locatoin:  [ 31.94443817 -43.99470535] , pbest:  [ 31.94443817 -43.99470535]\n",
      "Locatoin:  [-41.56107232  24.41544717] , pbest:  [-41.56107232  24.41544717]\n",
      "Locatoin:  [ 30.75252394 -28.62186438] , pbest:  [ 30.75252394 -28.62186438]\n",
      "Locatoin:  [ 4.99020193 33.13607992] , pbest:  [ 4.99020193 33.13607992]\n",
      "Locatoin:  [-20.78209447  -0.75578242] , pbest:  [-20.78209447  -0.75578242]\n",
      "Locatoin:  [-10.71486721 -34.05746736] , pbest:  [-10.71486721 -34.05746736]\n",
      "Locatoin:  [-25.63244541  33.42713359] , pbest:  [-25.63244541  33.42713359]\n",
      "Locatoin:  [ 26.02546817 -23.32418743] , pbest:  [ 26.02546817 -23.32418743]\n",
      "Locatoin:  [ 25.36668559 -13.52691062] , pbest:  [ 25.36668559 -13.52691062]\n",
      "Locatoin:  [-38.53478461 -25.43330316] , pbest:  [-38.53478461 -25.43330316]\n",
      "Locatoin:  [-37.35542692  40.81305618] , pbest:  [-37.35542692  40.81305618]\n",
      "Locatoin:  [-31.79374758 -16.15994995] , pbest:  [-31.79374758 -16.15994995]\n",
      "Locatoin:  [-36.84607954 -30.83823766] , pbest:  [-36.84607954 -30.83823766]\n",
      "Locatoin:  [25.39100213 19.48961319] , pbest:  [25.39100213 19.48961319]\n",
      "Locatoin:  [-5.65715784  4.81043052] , pbest:  [-5.65715784  4.81043052]\n",
      "Locatoin:  [ 33.86639978 -34.38941779] , pbest:  [ 33.86639978 -34.38941779]\n",
      "Locatoin:  [-25.59327951  11.22659234] , pbest:  [-25.59327951  11.22659234]\n",
      "Locatoin:  [-37.85432813  24.43150244] , pbest:  [-37.85432813  24.43150244]\n",
      "Locatoin:  [-27.8620034  -12.53119004] , pbest:  [-27.8620034  -12.53119004]\n",
      "Locatoin:  [-38.86725135  13.77505207] , pbest:  [-38.86725135  13.77505207]\n",
      "Locatoin:  [16.21086797 16.05517655] , pbest:  [16.21086797 16.05517655]\n",
      "Locatoin:  [16.15880577 11.37413461] , pbest:  [16.15880577 11.37413461]\n",
      "Locatoin:  [-44.20981477  -3.02603298] , pbest:  [-44.20981477  -3.02603298]\n"
     ]
    }
   ],
   "source": [
    "target = 1\n",
    "particles = [Particle() for _ in range(n_particles)]\n",
    "\n",
    "for particle in particles:\n",
    "    print(\"Locatoin: \", particle.position, \", pbest: \", particle.pbest_position)"
   ]
  },
  {
   "cell_type": "code",
   "execution_count": 45,
   "metadata": {},
   "outputs": [
    {
     "name": "stdout",
     "output_type": "stream",
     "text": [
      "The best solution is:  [0.00084487 0.0005102 ] woith value:  1.0000009741114242  in n_iterations:  35\n"
     ]
    }
   ],
   "source": [
    "iteration = 0\n",
    "while iteration < n_iterations:\n",
    "    \n",
    "    for particle in particles:\n",
    "        fitness_cadidate = particle.fitness()\n",
    "        if(particle.pbest_value > fitness_cadidate):\n",
    "            particle.pbest_value = fitness_cadidate\n",
    "            particle.pbest_position = particle.position\n",
    "            \n",
    "        best_fitness_cadidate = particle.fitness()\n",
    "        if(gbest_value > best_fitness_cadidate):\n",
    "            gbest_value = best_fitness_cadidate\n",
    "            gbest_position = particle.position\n",
    "    \n",
    "\n",
    "    if abs(gbest_value - target) <= target_error:\n",
    "        break\n",
    "\n",
    "    for particle in particles:\n",
    "        new_velocity = (W*particle.velocity) + (c1*random.random()) * (particle.pbest_position - particle.position) + \\\n",
    "                        (random.random()*c2) * (gbest_position - particle.position)\n",
    "        particle.velocity = new_velocity\n",
    "        particle.move()\n",
    "    iteration += 1\n",
    "\n",
    "print(\"The best solution is: \", gbest_position, \"woith value: \", gbest_value, \" in n_iterations: \", iteration)"
   ]
  },
  {
   "cell_type": "code",
   "execution_count": null,
   "metadata": {},
   "outputs": [],
   "source": []
  }
 ],
 "metadata": {
  "kernelspec": {
   "display_name": "Python 3",
   "language": "python",
   "name": "python3"
  },
  "language_info": {
   "codemirror_mode": {
    "name": "ipython",
    "version": 3
   },
   "file_extension": ".py",
   "mimetype": "text/x-python",
   "name": "python",
   "nbconvert_exporter": "python",
   "pygments_lexer": "ipython3",
   "version": "3.7.3"
  }
 },
 "nbformat": 4,
 "nbformat_minor": 2
}
